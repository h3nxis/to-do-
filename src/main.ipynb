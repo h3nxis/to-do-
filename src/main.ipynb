{
 "cells": [
  {
   "cell_type": "code",
   "execution_count": 2,
   "metadata": {},
   "outputs": [
    {
     "name": "stdout",
     "output_type": "stream",
     "text": [
      "2025-07-28 10:00:00\n"
     ]
    }
   ],
   "source": [
    "from datetime import datetime\n",
    "\n",
    "x = datetime(2025, 7, 28, 10, 0)\n",
    "\n",
    "print(x)\n",
    "\n",
    "\n",
    "\n",
    "\n",
    "\n",
    "\n"
   ]
  },
  {
   "cell_type": "code",
   "execution_count": 1,
   "metadata": {},
   "outputs": [
    {
     "name": "stdout",
     "output_type": "stream",
     "text": [
      " date: 2020-01-01 work: a description: a time: 10-11\n"
     ]
    }
   ],
   "source": [
    "import sqlite3\n",
    "from datetime import datetime\n",
    "def main():\n",
    "    conn = sqlite3.connect(\"works.db\")\n",
    "    cursor = conn.cursor()\n",
    "    cursor.execute(\"CREATE TABLE IF NOT EXISTS works (date TEXT, work TEXT, description TEXT, time TEXT)\")\n",
    "\n",
    "\n",
    "    try:\n",
    "        whats_to_do = int(input(\"what's to do? (enter 1 for add, 2 for view, 3 for delete, 4 for today's works, 0 for exit)\"))\n",
    "    except ValueError:\n",
    "        print(\"invalid input\")\n",
    "        return\n",
    "    \n",
    "\n",
    "\n",
    "    if whats_to_do == 1:\n",
    "        work = input(\"work: \")\n",
    "        description = input(\"description: \")\n",
    "        time = input(\"time: (example 10:00-11:00)\")\n",
    "        try:\n",
    "            date = datetime.strptime(input(\"date: \"), \"%Y-%m-%d\")\n",
    "            date = date.strftime(\"%Y-%m-%d\")\n",
    "        except ValueError:\n",
    "            print(\"invalid date\")\n",
    "            return\n",
    "        cursor.execute(\"INSERT INTO works (date, work, description, time) VALUES (?, ?, ?, ?)\", (date, work, description, time))\n",
    "        conn.commit()\n",
    "\n",
    "    elif whats_to_do == 2:\n",
    "        cursor.execute(\"SELECT * FROM works\")\n",
    "        works = cursor.fetchall()\n",
    "        for work in works:\n",
    "            print(f\" date: {work[0]} work: {work[1]} description: {work[2]} time: {work[3]}\")\n",
    "    elif whats_to_do == 3:\n",
    "        work_for_delete = input(\"work:\")\n",
    "        date_for_delete = input(\"date:\")\n",
    "        time_for_delete = input(\"time:\")\n",
    "        try:\n",
    "            cursor.execute(\"DELETE FROM works WHERE work = ? AND date = ? AND time = ?\", (work_for_delete, date_for_delete, time_for_delete))\n",
    "            conn.commit()\n",
    "        except sqlite3.OperationalError:\n",
    "            print(\"no such work at this date\")\n",
    "            return\n",
    "    elif whats_to_do == 4:\n",
    "        today = datetime.now().strftime(\"%Y-%m-%d\")\n",
    "        cursor.execute(\"SELECT * FROM works WHERE date = ?\", (today,))\n",
    "        works = cursor.fetchall()\n",
    "        for work in works:\n",
    "            print(f\" date: {work[0]} work: {work[1]} description: {work[2]} time: {work[3]}\")\n",
    "        return\n",
    "    elif whats_to_do == 0:\n",
    "        return\n",
    "    else:\n",
    "        print(\"invalid input\")\n",
    "        return\n",
    "\n",
    "main()"
   ]
  },
  {
   "cell_type": "code",
   "execution_count": null,
   "metadata": {},
   "outputs": [],
   "source": []
  }
 ],
 "metadata": {
  "kernelspec": {
   "display_name": "Python 3",
   "language": "python",
   "name": "python3"
  },
  "language_info": {
   "codemirror_mode": {
    "name": "ipython",
    "version": 3
   },
   "file_extension": ".py",
   "mimetype": "text/x-python",
   "name": "python",
   "nbconvert_exporter": "python",
   "pygments_lexer": "ipython3",
   "version": "3.13.5"
  }
 },
 "nbformat": 4,
 "nbformat_minor": 2
}
